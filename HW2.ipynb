{
 "cells": [
  {
   "cell_type": "code",
   "execution_count": 16,
   "metadata": {},
   "outputs": [],
   "source": [
    "import itertools"
   ]
  },
  {
   "cell_type": "markdown",
   "metadata": {},
   "source": [
    "Тема “Введение в математических анализ”"
   ]
  },
  {
   "cell_type": "markdown",
   "metadata": {},
   "source": [
    "1. Как относятся друг к другу множество и последовательность? (в ответе использовать слова типа: часть, целое, общее, частное, родитель, дочерний субъект и т.д.)\n",
    "\n",
    "2. Прочитать высказывания математической логики, построить их отрицания и установить истинность.\n"
   ]
  },
  {
   "cell_type": "markdown",
   "metadata": {},
   "source": [
    "https://github.com/ViktoriyaKazakova/VMatAn/blob/master/1.jpg"
   ]
  },
  {
   "cell_type": "markdown",
   "metadata": {},
   "source": [
    "Тема “Множество”"
   ]
  },
  {
   "cell_type": "markdown",
   "metadata": {},
   "source": [
    "1. Даны три множества a,b и с. Необходимо выполнить все изученные виды бинарных операций над всеми комбинациями множеств."
   ]
  },
  {
   "cell_type": "markdown",
   "metadata": {},
   "source": [
    "https://github.com/ViktoriyaKazakova/VMatAn/blob/master/2.jpg"
   ]
  },
  {
   "cell_type": "markdown",
   "metadata": {},
   "source": [
    "2. *Выполнить задание 1 на языке Python"
   ]
  },
  {
   "cell_type": "code",
   "execution_count": 4,
   "metadata": {},
   "outputs": [
    {
     "name": "stdout",
     "output_type": "stream",
     "text": [
      "{10, 5, 15} {16, 10, 7} {9, 10, 18}\n"
     ]
    }
   ],
   "source": [
    "a = set([5, 10, 15])\n",
    "b = set([7, 10 ,16])\n",
    "c = set([9, 10, 18])\n",
    "print(a, b, c)"
   ]
  },
  {
   "cell_type": "code",
   "execution_count": 8,
   "metadata": {},
   "outputs": [
    {
     "name": "stdout",
     "output_type": "stream",
     "text": [
      "{10}\n",
      "{10}\n",
      "{10}\n"
     ]
    }
   ],
   "source": [
    "#Пересечение\n",
    "print(set.intersection(a, b))\n",
    "print(set.intersection(a, c))\n",
    "print(set.intersection(b, c))"
   ]
  },
  {
   "cell_type": "code",
   "execution_count": 10,
   "metadata": {},
   "outputs": [
    {
     "name": "stdout",
     "output_type": "stream",
     "text": [
      "{16, 5, 7, 10, 15}\n",
      "{18, 5, 9, 10, 15}\n",
      "{16, 18, 7, 9, 10}\n"
     ]
    }
   ],
   "source": [
    "#Объединение\n",
    "print(set.union(a, b))\n",
    "print(set.union(a, c)) \n",
    "print(set.union(b, c))"
   ]
  },
  {
   "cell_type": "code",
   "execution_count": 12,
   "metadata": {},
   "outputs": [
    {
     "name": "stdout",
     "output_type": "stream",
     "text": [
      "{5, 15}\n",
      "{5, 15}\n",
      "{16, 7}\n",
      "{16, 7}\n",
      "{9, 18}\n",
      "{9, 18}\n"
     ]
    }
   ],
   "source": [
    "#Разность\n",
    "print(set.difference(a, b))\n",
    "print(set.difference(a, c))\n",
    "print(set.difference(b, c))\n",
    "print(set.difference(b, a))\n",
    "print(set.difference(c, a))\n",
    "print(set.difference(c, b))"
   ]
  },
  {
   "cell_type": "code",
   "execution_count": 15,
   "metadata": {},
   "outputs": [
    {
     "name": "stdout",
     "output_type": "stream",
     "text": [
      "{5, 7, 15, 16}\n",
      "{5, 9, 15, 18}\n",
      "{7, 9, 16, 18}\n"
     ]
    }
   ],
   "source": [
    "#Симметрическая разность\n",
    "print(set.symmetric_difference(a, b))\n",
    "print(set.symmetric_difference(a, c))\n",
    "print(set.symmetric_difference(b, c))"
   ]
  },
  {
   "cell_type": "code",
   "execution_count": 24,
   "metadata": {},
   "outputs": [
    {
     "name": "stdout",
     "output_type": "stream",
     "text": [
      "(10, 16)\n",
      "(10, 10)\n",
      "(10, 7)\n",
      "(5, 16)\n",
      "(5, 10)\n",
      "(5, 7)\n",
      "(15, 16)\n",
      "(15, 10)\n",
      "(15, 7)\n"
     ]
    }
   ],
   "source": [
    "#Декартово произведение\n",
    "\n",
    "for i in itertools.product(a, b):\n",
    "    print(i)"
   ]
  },
  {
   "cell_type": "code",
   "execution_count": 25,
   "metadata": {},
   "outputs": [
    {
     "name": "stdout",
     "output_type": "stream",
     "text": [
      "(10, 9)\n",
      "(10, 10)\n",
      "(10, 18)\n",
      "(5, 9)\n",
      "(5, 10)\n",
      "(5, 18)\n",
      "(15, 9)\n",
      "(15, 10)\n",
      "(15, 18)\n"
     ]
    }
   ],
   "source": [
    "for i in itertools.product(a, c):\n",
    "    print(i)"
   ]
  },
  {
   "cell_type": "code",
   "execution_count": 26,
   "metadata": {},
   "outputs": [
    {
     "name": "stdout",
     "output_type": "stream",
     "text": [
      "(16, 9)\n",
      "(16, 10)\n",
      "(16, 18)\n",
      "(10, 9)\n",
      "(10, 10)\n",
      "(10, 18)\n",
      "(7, 9)\n",
      "(7, 10)\n",
      "(7, 18)\n"
     ]
    }
   ],
   "source": [
    "for i in itertools.product(b, c):\n",
    "    print(i)"
   ]
  },
  {
   "cell_type": "code",
   "execution_count": 27,
   "metadata": {},
   "outputs": [
    {
     "name": "stdout",
     "output_type": "stream",
     "text": [
      "(16, 10)\n",
      "(16, 5)\n",
      "(16, 15)\n",
      "(10, 10)\n",
      "(10, 5)\n",
      "(10, 15)\n",
      "(7, 10)\n",
      "(7, 5)\n",
      "(7, 15)\n"
     ]
    }
   ],
   "source": [
    "for i in itertools.product(b, a):\n",
    "    print(i)"
   ]
  },
  {
   "cell_type": "code",
   "execution_count": 28,
   "metadata": {},
   "outputs": [
    {
     "name": "stdout",
     "output_type": "stream",
     "text": [
      "(9, 10)\n",
      "(9, 5)\n",
      "(9, 15)\n",
      "(10, 10)\n",
      "(10, 5)\n",
      "(10, 15)\n",
      "(18, 10)\n",
      "(18, 5)\n",
      "(18, 15)\n"
     ]
    }
   ],
   "source": [
    "for i in itertools.product(c, a):\n",
    "    print(i)"
   ]
  },
  {
   "cell_type": "code",
   "execution_count": 29,
   "metadata": {},
   "outputs": [
    {
     "name": "stdout",
     "output_type": "stream",
     "text": [
      "(9, 16)\n",
      "(9, 10)\n",
      "(9, 7)\n",
      "(10, 16)\n",
      "(10, 10)\n",
      "(10, 7)\n",
      "(18, 16)\n",
      "(18, 10)\n",
      "(18, 7)\n"
     ]
    }
   ],
   "source": [
    "for i in itertools.product(c, b):\n",
    "    print(i)"
   ]
  },
  {
   "cell_type": "markdown",
   "metadata": {},
   "source": [
    "Тема 3 “Последовательность”"
   ]
  },
  {
   "cell_type": "markdown",
   "metadata": {},
   "source": [
    "1. Даны 4 последовательности. Необходимо:\n",
    "\n",
    "a. исследовать их на монотонность; \n",
    "b. исследовать на ограниченность;\n",
    "c. найти пятый по счету член.\n"
   ]
  },
  {
   "cell_type": "code",
   "execution_count": 2,
   "metadata": {},
   "outputs": [
    {
     "name": "stdout",
     "output_type": "stream",
     "text": [
      "1 1\n",
      "2 2\n",
      "3 5\n",
      "4 12\n",
      "5 27\n"
     ]
    }
   ],
   "source": [
    "for i in range(1, 6):\n",
    "    a = 2**i - i\n",
    "    print(i, a)\n",
    "#Монотонно возрастает\n",
    "#Точка минимума a = 1"
   ]
  },
  {
   "cell_type": "code",
   "execution_count": 3,
   "metadata": {},
   "outputs": [
    {
     "name": "stdout",
     "output_type": "stream",
     "text": [
      "1 -1.0\n",
      "2 -0.5\n",
      "3 -0.3333333333333333\n",
      "4 -0.25\n",
      "5 -0.2\n"
     ]
    }
   ],
   "source": [
    "n = 1\n",
    "for i in range(2, 7):\n",
    "    b = 1/(1 - i)\n",
    "    print(n, b)\n",
    "    n += 1\n",
    "#Монотонно убывает\n",
    "#Точка максимума b = 2"
   ]
  },
  {
   "cell_type": "code",
   "execution_count": 4,
   "metadata": {},
   "outputs": [
    {
     "name": "stdout",
     "output_type": "stream",
     "text": [
      "1 0.41421356237309515\n",
      "2 1.0\n",
      "3 1.4494897427831779\n",
      "4 1.8284271247461903\n",
      "5 2.1622776601683795\n"
     ]
    }
   ],
   "source": [
    "for i in range(1, 6):\n",
    "    c = -1**i+(2*i)**0.5\n",
    "    print(i, c)\n",
    "#Монотонно возрастает\n",
    "#Точка минимума c = 1"
   ]
  },
  {
   "cell_type": "code",
   "execution_count": 5,
   "metadata": {},
   "outputs": [
    {
     "name": "stdout",
     "output_type": "stream",
     "text": [
      "1 2.0\n",
      "2 2.25\n",
      "3 3.111111111111111\n",
      "4 4.0625\n",
      "5 5.04\n"
     ]
    }
   ],
   "source": [
    "for i in range(1, 6):\n",
    "    d = ((-1)**2*i)+(1/i**2)\n",
    "    print(i, d)\n",
    "#Монотонно возрастает\n",
    "#Точка минимума d = 1"
   ]
  },
  {
   "cell_type": "markdown",
   "metadata": {},
   "source": [
    "2. Найти 12-й член заданной неявно последовательности\n"
   ]
  },
  {
   "cell_type": "code",
   "execution_count": 6,
   "metadata": {},
   "outputs": [
    {
     "data": {
      "text/plain": [
       "194"
      ]
     },
     "execution_count": 6,
     "metadata": {},
     "output_type": "execute_result"
    }
   ],
   "source": [
    "a1 = 128\n",
    "da = 6\n",
    "n = 12\n",
    "an = a1 + da * (n - 1)\n",
    "an"
   ]
  }
 ],
 "metadata": {
  "kernelspec": {
   "display_name": "Python 3",
   "language": "python",
   "name": "python3"
  },
  "language_info": {
   "codemirror_mode": {
    "name": "ipython",
    "version": 3
   },
   "file_extension": ".py",
   "mimetype": "text/x-python",
   "name": "python",
   "nbconvert_exporter": "python",
   "pygments_lexer": "ipython3",
   "version": "3.7.1"
  }
 },
 "nbformat": 4,
 "nbformat_minor": 2
}
